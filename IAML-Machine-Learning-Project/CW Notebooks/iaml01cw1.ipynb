{
 "cells": [
  {
   "cell_type": "markdown",
   "metadata": {},
   "source": [
    "# IAML Assignment 1"
   ]
  },
  {
   "cell_type": "code",
   "execution_count": 1,
   "metadata": {},
   "outputs": [],
   "source": [
    "import pandas as pd\n",
    "import numpy as np\n",
    "import matplotlib.pyplot as plt\n",
    "from sklearn.linear_model import LinearRegression\n",
    "from sklearn.metrics import mean_squared_error\n",
    "from sklearn.preprocessing import PolynomialFeatures\n",
    "from sklearn.tree import DecisionTreeClassifier\n",
    "from sklearn.metrics import accuracy_score\n",
    "from sklearn.metrics import roc_auc_score\n",
    "from sklearn.metrics import roc_curve\n",
    "from matplotlib.pyplot import MultipleLocator\n",
    "from sklearn import tree\n",
    "import graphviz\n",
    "import warnings\n",
    "warnings.filterwarnings('ignore')"
   ]
  },
  {
   "cell_type": "markdown",
   "metadata": {},
   "source": [
    "# Question 1a"
   ]
  },
  {
   "cell_type": "code",
   "execution_count": 2,
   "metadata": {},
   "outputs": [],
   "source": [
    "dataset1 = pd.read_csv('data/regression_part1.csv')\n",
    "dataset1.sort_values(by=\"revision_time\",inplace=True)"
   ]
  },
  {
   "cell_type": "code",
   "execution_count": 3,
   "metadata": {},
   "outputs": [
    {
     "data": {
      "text/plain": [
       "(50, 2)"
      ]
     },
     "execution_count": 3,
     "metadata": {},
     "output_type": "execute_result"
    }
   ],
   "source": [
    "dataset1.shape"
   ]
  },
  {
   "cell_type": "code",
   "execution_count": 4,
   "metadata": {},
   "outputs": [
    {
     "name": "stdout",
     "output_type": "stream",
     "text": [
      "<class 'pandas.core.frame.DataFrame'>\n",
      "Int64Index: 50 entries, 0 to 49\n",
      "Data columns (total 2 columns):\n",
      " #   Column         Non-Null Count  Dtype  \n",
      "---  ------         --------------  -----  \n",
      " 0   revision_time  50 non-null     float64\n",
      " 1   exam_score     50 non-null     float64\n",
      "dtypes: float64(2)\n",
      "memory usage: 1.2 KB\n"
     ]
    }
   ],
   "source": [
    "dataset1.info()"
   ]
  },
  {
   "cell_type": "code",
   "execution_count": 5,
   "metadata": {},
   "outputs": [
    {
     "data": {
      "text/html": [
       "<div>\n",
       "<style scoped>\n",
       "    .dataframe tbody tr th:only-of-type {\n",
       "        vertical-align: middle;\n",
       "    }\n",
       "\n",
       "    .dataframe tbody tr th {\n",
       "        vertical-align: top;\n",
       "    }\n",
       "\n",
       "    .dataframe thead th {\n",
       "        text-align: right;\n",
       "    }\n",
       "</style>\n",
       "<table border=\"1\" class=\"dataframe\">\n",
       "  <thead>\n",
       "    <tr style=\"text-align: right;\">\n",
       "      <th></th>\n",
       "      <th>revision_time</th>\n",
       "      <th>exam_score</th>\n",
       "    </tr>\n",
       "  </thead>\n",
       "  <tbody>\n",
       "    <tr>\n",
       "      <th>count</th>\n",
       "      <td>50.00</td>\n",
       "      <td>50.00</td>\n",
       "    </tr>\n",
       "    <tr>\n",
       "      <th>mean</th>\n",
       "      <td>22.22</td>\n",
       "      <td>49.92</td>\n",
       "    </tr>\n",
       "    <tr>\n",
       "      <th>std</th>\n",
       "      <td>13.99</td>\n",
       "      <td>20.93</td>\n",
       "    </tr>\n",
       "    <tr>\n",
       "      <th>min</th>\n",
       "      <td>2.72</td>\n",
       "      <td>14.73</td>\n",
       "    </tr>\n",
       "    <tr>\n",
       "      <th>25%</th>\n",
       "      <td>8.57</td>\n",
       "      <td>32.12</td>\n",
       "    </tr>\n",
       "    <tr>\n",
       "      <th>50%</th>\n",
       "      <td>21.69</td>\n",
       "      <td>47.83</td>\n",
       "    </tr>\n",
       "    <tr>\n",
       "      <th>75%</th>\n",
       "      <td>32.26</td>\n",
       "      <td>65.07</td>\n",
       "    </tr>\n",
       "    <tr>\n",
       "      <th>max</th>\n",
       "      <td>48.01</td>\n",
       "      <td>94.94</td>\n",
       "    </tr>\n",
       "  </tbody>\n",
       "</table>\n",
       "</div>"
      ],
      "text/plain": [
       "       revision_time  exam_score\n",
       "count          50.00       50.00\n",
       "mean           22.22       49.92\n",
       "std            13.99       20.93\n",
       "min             2.72       14.73\n",
       "25%             8.57       32.12\n",
       "50%            21.69       47.83\n",
       "75%            32.26       65.07\n",
       "max            48.01       94.94"
      ]
     },
     "execution_count": 5,
     "metadata": {},
     "output_type": "execute_result"
    }
   ],
   "source": [
    "round(dataset1.describe(),2)"
   ]
  },
  {
   "cell_type": "markdown",
   "metadata": {},
   "source": [
    "# Question 1b"
   ]
  },
  {
   "cell_type": "code",
   "execution_count": 6,
   "metadata": {},
   "outputs": [
    {
     "data": {
      "text/plain": [
       "LinearRegression(copy_X=True, fit_intercept=True, n_jobs=None,\n",
       "         normalize=False)"
      ]
     },
     "execution_count": 6,
     "metadata": {},
     "output_type": "execute_result"
    }
   ],
   "source": [
    "LinearRegression()"
   ]
  },
  {
   "cell_type": "code",
   "execution_count": 7,
   "metadata": {},
   "outputs": [],
   "source": [
    "dataset1.insert(0,\"bias\",1)"
   ]
  },
  {
   "cell_type": "code",
   "execution_count": 8,
   "metadata": {},
   "outputs": [],
   "source": [
    "train_data = dataset1[[\"bias\",\"revision_time\"]]\n",
    "train_label = dataset1[\"exam_score\"]"
   ]
  },
  {
   "cell_type": "code",
   "execution_count": 9,
   "metadata": {},
   "outputs": [
    {
     "data": {
      "text/plain": [
       "LinearRegression(copy_X=True, fit_intercept=False, n_jobs=None,\n",
       "         normalize=False)"
      ]
     },
     "execution_count": 9,
     "metadata": {},
     "output_type": "execute_result"
    }
   ],
   "source": [
    "linear_reg = LinearRegression(fit_intercept=False)\n",
    "linear_reg.fit(train_data,train_label)"
   ]
  },
  {
   "cell_type": "code",
   "execution_count": 10,
   "metadata": {},
   "outputs": [
    {
     "data": {
      "text/plain": [
       "array([17.89768026,  1.44114091])"
      ]
     },
     "execution_count": 10,
     "metadata": {},
     "output_type": "execute_result"
    }
   ],
   "source": [
    "linear_reg.coef_"
   ]
  },
  {
   "cell_type": "markdown",
   "metadata": {},
   "source": [
    "# Question 1c"
   ]
  },
  {
   "cell_type": "code",
   "execution_count": 11,
   "metadata": {},
   "outputs": [
    {
     "data": {
      "image/png": "[encoded data removed]",
      "text/plain": [
       "<Figure size 432x288 with 1 Axes>"
      ]
     },
     "metadata": {
      "needs_background": "light"
     },
     "output_type": "display_data"
    }
   ],
   "source": [
    "x = train_data\n",
    "y = linear_reg.predict(x)\n",
    "plt.scatter(dataset1[\"revision_time\"],dataset1[\"exam_score\"],label=\"data point\")\n",
    "plt.plot(train_data[\"revision_time\"],y,color=\"r\",label=\"fitted linear model\")\n",
    "plt.xlabel('revision_time (hours)')\n",
    "plt.ylabel('exam_score')\n",
    "plt.title('Fitted Linear Model With Input Data')\n",
    "plt.xlim(0,50)\n",
    "plt.ylim(0,100)\n",
    "x_major_locator = MultipleLocator(5)\n",
    "y_major_locator = MultipleLocator(10)\n",
    "ax=plt.gca()\n",
    "ax.xaxis.set_major_locator(x_major_locator)\n",
    "ax.yaxis.set_major_locator(y_major_locator)\n",
    "plt.grid()\n",
    "plt.legend()\n",
    "plt.savefig('plot/linear.png', dpi=300, bbox_inches='tight')\n",
    "plt.show()"
   ]
  },
  {
   "cell_type": "markdown",
   "metadata": {},
   "source": [
    "# Question 1d"
   ]
  },
  {
   "cell_type": "code",
   "execution_count": 12,
   "metadata": {},
   "outputs": [
    {
     "data": {
      "text/plain": [
       "array([17.89768026,  1.44114091])"
      ]
     },
     "execution_count": 12,
     "metadata": {},
     "output_type": "execute_result"
    }
   ],
   "source": [
    "X = dataset1[[\"bias\",\"revision_time\"]].values\n",
    "y = dataset1[\"exam_score\"].values\n",
    "w = np.linalg.inv(X.T.dot(X)).dot(X.T).dot(y)\n",
    "w"
   ]
  },
  {
   "cell_type": "markdown",
   "metadata": {},
   "source": [
    "# Question 1f"
   ]
  },
  {
   "cell_type": "code",
   "execution_count": 13,
   "metadata": {},
   "outputs": [
    {
     "name": "stdout",
     "output_type": "stream",
     "text": [
      "30.985472614541294\n",
      "30.98547261454129\n"
     ]
    }
   ],
   "source": [
    "print(mean_squared_error(train_label,linear_reg.predict(train_data)))\n",
    "print(mean_squared_error(train_label,train_data[\"bias\"] * w[0] + train_data[\"revision_time\"] * w[1]))"
   ]
  },
  {
   "cell_type": "markdown",
   "metadata": {},
   "source": [
    "# Question 1g"
   ]
  },
  {
   "cell_type": "code",
   "execution_count": 14,
   "metadata": {},
   "outputs": [
    {
     "data": {
      "image/png": "[encoded data removed]",
      "text/plain": [
       "<Figure size 432x288 with 1 Axes>"
      ]
     },
     "metadata": {
      "needs_background": "light"
     },
     "output_type": "display_data"
    }
   ],
   "source": [
    "w0 = 20\n",
    "w1 = np.linspace(-2,2,100)\n",
    "results = []\n",
    "for w in w1:\n",
    "    predictions = train_data[\"bias\"] * w0 + train_data[\"revision_time\"] * w\n",
    "    error = mean_squared_error(train_label,predictions)\n",
    "    results.append(error)\n",
    "plt.plot(w1,results,color=\"b\",label=\"MSE with different w1\")\n",
    "plt.xlabel(\"value of w1 (assume w0 = 20)\")\n",
    "plt.ylabel(\"Mean Squared Error\")\n",
    "plt.title(\"Mean Squared Error With Different W1\")\n",
    "plt.ylim(0,8000)\n",
    "plt.xlim(-2.5,2.5)\n",
    "x_major_locator = MultipleLocator(0.5)\n",
    "y_major_locator = MultipleLocator(1000)\n",
    "ax=plt.gca()\n",
    "ax.xaxis.set_major_locator(x_major_locator)\n",
    "ax.yaxis.set_major_locator(y_major_locator)\n",
    "plt.grid()\n",
    "plt.legend()\n",
    "plt.savefig('plot/MSE_line.png', dpi=300, bbox_inches='tight')\n",
    "plt.show()"
   ]
  },
  {
   "cell_type": "code",
   "execution_count": 15,
   "metadata": {},
   "outputs": [
    {
     "data": {
      "text/plain": [
       "1.3535353535353538"
      ]
     },
     "execution_count": 15,
     "metadata": {},
     "output_type": "execute_result"
    }
   ],
   "source": [
    "min_error_w1 = w1[results.index(min(results))]\n",
    "min_error_w1"
   ]
  },
  {
   "cell_type": "code",
   "execution_count": 16,
   "metadata": {},
   "outputs": [
    {
     "data": {
      "text/plain": [
       "(7830.3758159, 32.48096161535148)"
      ]
     },
     "execution_count": 16,
     "metadata": {},
     "output_type": "execute_result"
    }
   ],
   "source": [
    "max(results),min(results)"
   ]
  },
  {
   "cell_type": "markdown",
   "metadata": {},
   "source": [
    "# Question 2a"
   ]
  },
  {
   "cell_type": "code",
   "execution_count": 17,
   "metadata": {},
   "outputs": [],
   "source": [
    "dataset2 = pd.read_csv(\"data/regression_part2.csv\")\n",
    "dataset2.sort_values(by=\"input\",inplace=True)\n",
    "train_data,train_label = dataset2[\"input\"],dataset2[\"output\"]"
   ]
  },
  {
   "cell_type": "code",
   "execution_count": 18,
   "metadata": {},
   "outputs": [
    {
     "data": {
      "image/png": "[encoded data removed]",
      "text/plain": [
       "<Figure size 432x288 with 1 Axes>"
      ]
     },
     "metadata": {
      "needs_background": "light"
     },
     "output_type": "display_data"
    }
   ],
   "source": [
    "mse_results = {}\n",
    "train_data1 = train_data[:,np.newaxis]\n",
    "plt.scatter(train_data1,train_label,c=\"b\",label=\"data point\")\n",
    "for i in range(1,5):\n",
    "    poly_feature = PolynomialFeatures(degree=i)\n",
    "    poly_data = poly_feature.fit_transform(train_data1)\n",
    "    linear_reg = LinearRegression(fit_intercept=False)\n",
    "    linear_reg.fit(poly_data,train_label)\n",
    "    mse_results[\"N = \"+str(i)] = mean_squared_error(train_label,linear_reg.predict(poly_data))\n",
    "    #y = linear_reg.predict(poly_data)\n",
    "    x = np.linspace(train_data1.min(),train_data1.max(),100)\n",
    "    poly_x = poly_feature.fit_transform(x[:,np.newaxis])\n",
    "    y = linear_reg.predict(poly_x)\n",
    "    plt.plot(x, y, label=\"degree of polynomial features = \"+str(i))\n",
    "plt.xlabel(\"value of input data\")\n",
    "plt.ylabel(\"value of output data\")\n",
    "plt.title(\"Polynomial Regression Models\")\n",
    "plt.xlim(-6,6)\n",
    "plt.ylim(-20,40)\n",
    "plt.grid()\n",
    "plt.legend()\n",
    "plt.savefig('plot/Poly.png', dpi=300, bbox_inches='tight')\n",
    "plt.show()    "
   ]
  },
  {
   "cell_type": "markdown",
   "metadata": {},
   "source": [
    "# Question 2b"
   ]
  },
  {
   "cell_type": "code",
   "execution_count": 19,
   "metadata": {},
   "outputs": [
    {
     "data": {
      "image/png": "[encoded data removed]",
      "text/plain": [
       "<Figure size 432x288 with 1 Axes>"
      ]
     },
     "metadata": {
      "needs_background": "light"
     },
     "output_type": "display_data"
    }
   ],
   "source": [
    "bar_name = list(mse_results.keys())\n",
    "bar_values = list(mse_results.values())\n",
    "plt.bar(x=bar_name,height=bar_values)\n",
    "plt.title(\"Mean Squared Error Of Polynomial Regression Models\")\n",
    "plt.xlabel(\"N degree of polynomial features\")\n",
    "plt.ylabel(\"Value Of Mean Squared Error\")\n",
    "for i, v in enumerate(mse_results.values()):\n",
    "    plt.text(i-0.2, v+0.5, str(round(v,3)))\n",
    "plt.ylim(0,30)\n",
    "plt.savefig('plot/MSE.png', dpi=300, bbox_inches='tight')\n",
    "plt.show()"
   ]
  },
  {
   "cell_type": "markdown",
   "metadata": {},
   "source": [
    "# Question 2c"
   ]
  },
  {
   "cell_type": "code",
   "execution_count": 20,
   "metadata": {},
   "outputs": [
    {
     "data": {
      "text/plain": [
       "{'N = 1': 24.744378032672856,\n",
       " 'N = 2': 17.352926937873296,\n",
       " 'N = 3': 2.7447567192524263,\n",
       " 'N = 4': 2.7389111790755374}"
      ]
     },
     "execution_count": 20,
     "metadata": {},
     "output_type": "execute_result"
    }
   ],
   "source": [
    "mse_results"
   ]
  },
  {
   "cell_type": "markdown",
   "metadata": {},
   "source": [
    "# Question 2d"
   ]
  },
  {
   "cell_type": "code",
   "execution_count": 21,
   "metadata": {},
   "outputs": [],
   "source": [
    "def rbf(x,c,alpha):\n",
    "    return np.exp(-0.5*((x-c)**2)/(alpha**2))"
   ]
  },
  {
   "cell_type": "code",
   "execution_count": 22,
   "metadata": {},
   "outputs": [
    {
     "data": {
      "image/png": "[encoded data removed]",
      "text/plain": [
       "<Figure size 432x288 with 1 Axes>"
      ]
     },
     "metadata": {
      "needs_background": "light"
     },
     "output_type": "display_data"
    }
   ],
   "source": [
    "alpha_list = [0.2,100,1000]\n",
    "x = train_data\n",
    "plt.scatter(train_data,train_label,label=\"data point\",c=\"b\")\n",
    "for alpha in alpha_list:\n",
    "    rbf_train_data = np.c_[np.ones(25),rbf(x,-4.0,alpha),rbf(x,-2.0,alpha),rbf(x,2.0,alpha),rbf(x,4.0,alpha)]\n",
    "    linear_reg = LinearRegression(fit_intercept=False)\n",
    "    linear_reg.fit(rbf_train_data,train_label)\n",
    "    #y = linear_reg.predict(rbf_train_data)\n",
    "    x1 = np.linspace(train_data.min(),train_data.max(),100)\n",
    "    rbf_x = np.c_[np.ones(100),rbf(x1,-4.0,alpha),rbf(x1,-2.0,alpha),rbf(x1,2.0,alpha),rbf(x1,4.0,alpha)]\n",
    "    y = linear_reg.predict(rbf_x)\n",
    "    plt.plot(x1,y,label=\"alpha=\"+str(alpha))\n",
    "plt.xlabel(\"value of input data\")\n",
    "plt.ylabel(\"value of output data\")\n",
    "plt.title(\"RBF Models With Different Alpha\")\n",
    "#plt.xlim(-6,6)\n",
    "#plt.ylim(-20,40)\n",
    "plt.xlim(-6,6)\n",
    "plt.ylim(-175,50)\n",
    "plt.grid()\n",
    "plt.legend()\n",
    "plt.savefig('plot/RBF_1.png', dpi=300, bbox_inches='tight')\n",
    "plt.show()"
   ]
  },
  {
   "cell_type": "markdown",
   "metadata": {},
   "source": [
    "# Question 3a"
   ]
  },
  {
   "cell_type": "code",
   "execution_count": 23,
   "metadata": {},
   "outputs": [],
   "source": [
    "face_train = pd.read_csv(\"data/faces_train_data.csv\")\n",
    "face_test = pd.read_csv(\"data/faces_test_data.csv\")\n",
    "face_train_data = face_train.drop(labels=[\"smiling\"],axis=1)\n",
    "face_test_data = face_test.drop(labels=[\"smiling\"],axis=1)\n",
    "face_train_label = face_train[\"smiling\"]\n",
    "face_test_label = face_test[\"smiling\"]"
   ]
  },
  {
   "cell_type": "code",
   "execution_count": 24,
   "metadata": {},
   "outputs": [
    {
     "data": {
      "text/plain": [
       "(4800, 137)"
      ]
     },
     "execution_count": 24,
     "metadata": {},
     "output_type": "execute_result"
    }
   ],
   "source": [
    "face_train.shape"
   ]
  },
  {
   "cell_type": "code",
   "execution_count": 25,
   "metadata": {},
   "outputs": [
    {
     "data": {
      "text/plain": [
       "(1200, 137)"
      ]
     },
     "execution_count": 25,
     "metadata": {},
     "output_type": "execute_result"
    }
   ],
   "source": [
    "face_test.shape"
   ]
  },
  {
   "cell_type": "code",
   "execution_count": 26,
   "metadata": {},
   "outputs": [
    {
     "name": "stdout",
     "output_type": "stream",
     "text": [
      "<class 'pandas.core.frame.DataFrame'>\n",
      "RangeIndex: 4800 entries, 0 to 4799\n",
      "Columns: 137 entries, x0 to smiling\n",
      "dtypes: float64(136), int64(1)\n",
      "memory usage: 5.0 MB\n"
     ]
    }
   ],
   "source": [
    "face_train.info()"
   ]
  },
  {
   "cell_type": "code",
   "execution_count": 27,
   "metadata": {},
   "outputs": [
    {
     "name": "stdout",
     "output_type": "stream",
     "text": [
      "<class 'pandas.core.frame.DataFrame'>\n",
      "RangeIndex: 1200 entries, 0 to 1199\n",
      "Columns: 137 entries, x0 to smiling\n",
      "dtypes: float64(136), int64(1)\n",
      "memory usage: 1.3 MB\n"
     ]
    }
   ],
   "source": [
    "face_test.info()"
   ]
  },
  {
   "cell_type": "markdown",
   "metadata": {},
   "source": [
    "# Question 3b"
   ]
  },
  {
   "cell_type": "code",
   "execution_count": 28,
   "metadata": {},
   "outputs": [
    {
     "data": {
      "image/png": "[encoded data removed]",
      "text/plain": [
       "<Figure size 432x288 with 1 Axes>"
      ]
     },
     "metadata": {
      "needs_background": "light"
     },
     "output_type": "display_data"
    }
   ],
   "source": [
    "average_smiling_face = face_train_data[face_train_label==1].mean().values.reshape(68,2)\n",
    "average_no_smiling_face = face_train_data[face_train_label==0].mean().values.reshape(68,2)\n",
    "plt.scatter(average_smiling_face[:,0],average_smiling_face[:,1],c=\"r\",label=\"smiling\")\n",
    "plt.scatter(average_no_smiling_face[:,0],average_no_smiling_face[:,1],c=\"b\",label=\"no smiling\")\n",
    "plt.title(\"Smiling And No Smiling Faces\")\n",
    "plt.xlabel(\"value of x coordinate\")\n",
    "plt.ylabel(\"value of y coordinate\")\n",
    "plt.xlim(-2.5,2.5)\n",
    "plt.ylim(-2.0,2.5)\n",
    "x_major_locator = MultipleLocator(0.5)\n",
    "y_major_locator = MultipleLocator(0.5)\n",
    "ax=plt.gca()\n",
    "ax.xaxis.set_major_locator(x_major_locator)\n",
    "ax.yaxis.set_major_locator(y_major_locator)\n",
    "plt.axes().set_aspect('equal')\n",
    "plt.legend()\n",
    "plt.savefig('plot/smiling.png', dpi=300, bbox_inches='tight')\n",
    "plt.show()"
   ]
  },
  {
   "cell_type": "markdown",
   "metadata": {},
   "source": [
    "# Question 3e"
   ]
  },
  {
   "cell_type": "code",
   "execution_count": 29,
   "metadata": {},
   "outputs": [],
   "source": [
    "max_depth = [2,8,20]\n",
    "training_accuracy = []\n",
    "test_accuracy = []\n",
    "top_three_important = {}\n",
    "for depth in max_depth:\n",
    "    dt_clf = DecisionTreeClassifier(max_depth=depth,random_state=2001)\n",
    "    dt_clf.fit(face_train_data,face_train_label)\n",
    "    train_predictions = dt_clf.predict(face_train_data)\n",
    "    training_accuracy.append(accuracy_score(face_train_label,train_predictions)*100)\n",
    "    test_predictions = dt_clf.predict(face_test_data)\n",
    "    test_accuracy.append(accuracy_score(face_test_label,test_predictions)*100)\n",
    "    largest_three_index = dt_clf.feature_importances_.argsort()[::-1][:3]\n",
    "    largest_three_value = np.sort(dt_clf.feature_importances_)[::-1][:3]\n",
    "    top_three_important[str(depth)] = (face_train_data.columns[largest_three_index].tolist(),largest_three_value) "
   ]
  },
  {
   "cell_type": "code",
   "execution_count": 30,
   "metadata": {},
   "outputs": [
    {
     "data": {
      "image/svg+xml": [
       "<?xml version=\"1.0\" encoding=\"UTF-8\" standalone=\"no\"?>\n",
       "<!DOCTYPE svg PUBLIC \"-//W3C//DTD SVG 1.1//EN\"\n",
       " \"http://www.w3.org/Graphics/SVG/1.1/DTD/svg11.dtd\">\n",
       "<!-- Generated by graphviz version 2.44.1 (20200629.0846)\n",
       " -->\n",
       "<!-- Title: Tree Pages: 1 -->\n",
       "<svg width=\"579pt\" height=\"269pt\"\n",
       " viewBox=\"0.00 0.00 578.50 269.00\" xmlns=\"http://www.w3.org/2000/svg\" xmlns:xlink=\"http://www.w3.org/1999/xlink\">\n",
       "<g id=\"graph0\" class=\"graph\" transform=\"scale(1 1) rotate(0) translate(4 265)\">\n",
       "<title>Tree</title>\n",
       "<polygon fill=\"white\" stroke=\"transparent\" points=\"-4,4 -4,-265 574.5,-265 574.5,4 -4,4\"/>\n",
       "<!-- 0 -->\n",
       "<g id=\"node1\" class=\"node\">\n",
       "<title>0</title>\n",
       "<path fill=\"#e58139\" fill-opacity=\"0.050980\" stroke=\"black\" d=\"M345,-261C345,-261 229,-261 229,-261 223,-261 217,-255 217,-249 217,-249 217,-205 217,-205 217,-199 223,-193 229,-193 229,-193 345,-193 345,-193 351,-193 357,-199 357,-205 357,-205 357,-249 357,-249 357,-255 351,-261 345,-261\"/>\n",
       "<text text-anchor=\"start\" x=\"249\" y=\"-245.8\" font-family=\"Helvetica,sans-Serif\" font-size=\"14.00\">x50 ≤ &#45;0.207</text>\n",
       "<text text-anchor=\"start\" x=\"259\" y=\"-230.8\" font-family=\"Helvetica,sans-Serif\" font-size=\"14.00\">gini = 0.5</text>\n",
       "<text text-anchor=\"start\" x=\"238.5\" y=\"-215.8\" font-family=\"Helvetica,sans-Serif\" font-size=\"14.00\">samples = 4800</text>\n",
       "<text text-anchor=\"start\" x=\"225\" y=\"-200.8\" font-family=\"Helvetica,sans-Serif\" font-size=\"14.00\">value = [2465, 2335]</text>\n",
       "</g>\n",
       "<!-- 1 -->\n",
       "<g id=\"node2\" class=\"node\">\n",
       "<title>1</title>\n",
       "<path fill=\"#399de5\" fill-opacity=\"0.713725\" stroke=\"black\" d=\"M266,-157C266,-157 158,-157 158,-157 152,-157 146,-151 146,-145 146,-145 146,-101 146,-101 146,-95 152,-89 158,-89 158,-89 266,-89 266,-89 272,-89 278,-95 278,-101 278,-101 278,-145 278,-145 278,-151 272,-157 266,-157\"/>\n",
       "<text text-anchor=\"start\" x=\"176.5\" y=\"-141.8\" font-family=\"Helvetica,sans-Serif\" font-size=\"14.00\">y29 ≤ 0.968</text>\n",
       "<text text-anchor=\"start\" x=\"176.5\" y=\"-126.8\" font-family=\"Helvetica,sans-Serif\" font-size=\"14.00\">gini = 0.346</text>\n",
       "<text text-anchor=\"start\" x=\"163.5\" y=\"-111.8\" font-family=\"Helvetica,sans-Serif\" font-size=\"14.00\">samples = 2057</text>\n",
       "<text text-anchor=\"start\" x=\"154\" y=\"-96.8\" font-family=\"Helvetica,sans-Serif\" font-size=\"14.00\">value = [457, 1600]</text>\n",
       "</g>\n",
       "<!-- 0&#45;&gt;1 -->\n",
       "<g id=\"edge1\" class=\"edge\">\n",
       "<title>0&#45;&gt;1</title>\n",
       "<path fill=\"none\" stroke=\"black\" d=\"M262.65,-192.88C256.23,-184.15 249.22,-174.62 242.52,-165.51\"/>\n",
       "<polygon fill=\"black\" stroke=\"black\" points=\"245.23,-163.28 236.48,-157.3 239.59,-167.43 245.23,-163.28\"/>\n",
       "<text text-anchor=\"middle\" x=\"232.71\" y=\"-178.31\" font-family=\"Helvetica,sans-Serif\" font-size=\"14.00\">True</text>\n",
       "</g>\n",
       "<!-- 4 -->\n",
       "<g id=\"node5\" class=\"node\">\n",
       "<title>4</title>\n",
       "<path fill=\"#e58139\" fill-opacity=\"0.635294\" stroke=\"black\" d=\"M416,-157C416,-157 308,-157 308,-157 302,-157 296,-151 296,-145 296,-145 296,-101 296,-101 296,-95 302,-89 308,-89 308,-89 416,-89 416,-89 422,-89 428,-95 428,-101 428,-101 428,-145 428,-145 428,-151 422,-157 416,-157\"/>\n",
       "<text text-anchor=\"start\" x=\"326.5\" y=\"-141.8\" font-family=\"Helvetica,sans-Serif\" font-size=\"14.00\">x53 ≤ 0.555</text>\n",
       "<text text-anchor=\"start\" x=\"326.5\" y=\"-126.8\" font-family=\"Helvetica,sans-Serif\" font-size=\"14.00\">gini = 0.392</text>\n",
       "<text text-anchor=\"start\" x=\"313.5\" y=\"-111.8\" font-family=\"Helvetica,sans-Serif\" font-size=\"14.00\">samples = 2743</text>\n",
       "<text text-anchor=\"start\" x=\"304\" y=\"-96.8\" font-family=\"Helvetica,sans-Serif\" font-size=\"14.00\">value = [2008, 735]</text>\n",
       "</g>\n",
       "<!-- 0&#45;&gt;4 -->\n",
       "<g id=\"edge4\" class=\"edge\">\n",
       "<title>0&#45;&gt;4</title>\n",
       "<path fill=\"none\" stroke=\"black\" d=\"M311.35,-192.88C317.77,-184.15 324.78,-174.62 331.48,-165.51\"/>\n",
       "<polygon fill=\"black\" stroke=\"black\" points=\"334.41,-167.43 337.52,-157.3 328.77,-163.28 334.41,-167.43\"/>\n",
       "<text text-anchor=\"middle\" x=\"341.29\" y=\"-178.31\" font-family=\"Helvetica,sans-Serif\" font-size=\"14.00\">False</text>\n",
       "</g>\n",
       "<!-- 2 -->\n",
       "<g id=\"node3\" class=\"node\">\n",
       "<title>2</title>\n",
       "<path fill=\"#399de5\" fill-opacity=\"0.858824\" stroke=\"black\" d=\"M120,-53C120,-53 12,-53 12,-53 6,-53 0,-47 0,-41 0,-41 0,-12 0,-12 0,-6 6,0 12,0 12,0 120,0 120,0 126,0 132,-6 132,-12 132,-12 132,-41 132,-41 132,-47 126,-53 120,-53\"/>\n",
       "<text text-anchor=\"start\" x=\"30.5\" y=\"-37.8\" font-family=\"Helvetica,sans-Serif\" font-size=\"14.00\">gini = 0.215</text>\n",
       "<text text-anchor=\"start\" x=\"17.5\" y=\"-22.8\" font-family=\"Helvetica,sans-Serif\" font-size=\"14.00\">samples = 1620</text>\n",
       "<text text-anchor=\"start\" x=\"8\" y=\"-7.8\" font-family=\"Helvetica,sans-Serif\" font-size=\"14.00\">value = [198, 1422]</text>\n",
       "</g>\n",
       "<!-- 1&#45;&gt;2 -->\n",
       "<g id=\"edge2\" class=\"edge\">\n",
       "<title>1&#45;&gt;2</title>\n",
       "<path fill=\"none\" stroke=\"black\" d=\"M160.94,-88.95C145.81,-79.16 129.31,-68.48 114.36,-58.8\"/>\n",
       "<polygon fill=\"black\" stroke=\"black\" points=\"116.06,-55.73 105.76,-53.24 112.26,-61.61 116.06,-55.73\"/>\n",
       "</g>\n",
       "<!-- 3 -->\n",
       "<g id=\"node4\" class=\"node\">\n",
       "<title>3</title>\n",
       "<path fill=\"#e58139\" fill-opacity=\"0.313725\" stroke=\"black\" d=\"M263.5,-53C263.5,-53 162.5,-53 162.5,-53 156.5,-53 150.5,-47 150.5,-41 150.5,-41 150.5,-12 150.5,-12 150.5,-6 156.5,0 162.5,0 162.5,0 263.5,0 263.5,0 269.5,0 275.5,-6 275.5,-12 275.5,-12 275.5,-41 275.5,-41 275.5,-47 269.5,-53 263.5,-53\"/>\n",
       "<text text-anchor=\"start\" x=\"177.5\" y=\"-37.8\" font-family=\"Helvetica,sans-Serif\" font-size=\"14.00\">gini = 0.483</text>\n",
       "<text text-anchor=\"start\" x=\"168\" y=\"-22.8\" font-family=\"Helvetica,sans-Serif\" font-size=\"14.00\">samples = 437</text>\n",
       "<text text-anchor=\"start\" x=\"158.5\" y=\"-7.8\" font-family=\"Helvetica,sans-Serif\" font-size=\"14.00\">value = [259, 178]</text>\n",
       "</g>\n",
       "<!-- 1&#45;&gt;3 -->\n",
       "<g id=\"edge3\" class=\"edge\">\n",
       "<title>1&#45;&gt;3</title>\n",
       "<path fill=\"none\" stroke=\"black\" d=\"M212.35,-88.95C212.44,-80.72 212.53,-71.85 212.62,-63.48\"/>\n",
       "<polygon fill=\"black\" stroke=\"black\" points=\"216.12,-63.27 212.73,-53.24 209.12,-63.2 216.12,-63.27\"/>\n",
       "</g>\n",
       "<!-- 5 -->\n",
       "<g id=\"node6\" class=\"node\">\n",
       "<title>5</title>\n",
       "<path fill=\"#e58139\" fill-opacity=\"0.764706\" stroke=\"black\" d=\"M415,-53C415,-53 307,-53 307,-53 301,-53 295,-47 295,-41 295,-41 295,-12 295,-12 295,-6 301,0 307,0 307,0 415,0 415,0 421,0 427,-6 427,-12 427,-12 427,-41 427,-41 427,-47 421,-53 415,-53\"/>\n",
       "<text text-anchor=\"start\" x=\"325.5\" y=\"-37.8\" font-family=\"Helvetica,sans-Serif\" font-size=\"14.00\">gini = 0.307</text>\n",
       "<text text-anchor=\"start\" x=\"312.5\" y=\"-22.8\" font-family=\"Helvetica,sans-Serif\" font-size=\"14.00\">samples = 2253</text>\n",
       "<text text-anchor=\"start\" x=\"303\" y=\"-7.8\" font-family=\"Helvetica,sans-Serif\" font-size=\"14.00\">value = [1826, 427]</text>\n",
       "</g>\n",
       "<!-- 4&#45;&gt;5 -->\n",
       "<g id=\"edge5\" class=\"edge\">\n",
       "<title>4&#45;&gt;5</title>\n",
       "<path fill=\"none\" stroke=\"black\" d=\"M361.65,-88.95C361.56,-80.72 361.47,-71.85 361.38,-63.48\"/>\n",
       "<polygon fill=\"black\" stroke=\"black\" points=\"364.88,-63.2 361.27,-53.24 357.88,-63.27 364.88,-63.2\"/>\n",
       "</g>\n",
       "<!-- 6 -->\n",
       "<g id=\"node7\" class=\"node\">\n",
       "<title>6</title>\n",
       "<path fill=\"#399de5\" fill-opacity=\"0.407843\" stroke=\"black\" d=\"M558.5,-53C558.5,-53 457.5,-53 457.5,-53 451.5,-53 445.5,-47 445.5,-41 445.5,-41 445.5,-12 445.5,-12 445.5,-6 451.5,0 457.5,0 457.5,0 558.5,0 558.5,0 564.5,0 570.5,-6 570.5,-12 570.5,-12 570.5,-41 570.5,-41 570.5,-47 564.5,-53 558.5,-53\"/>\n",
       "<text text-anchor=\"start\" x=\"472.5\" y=\"-37.8\" font-family=\"Helvetica,sans-Serif\" font-size=\"14.00\">gini = 0.467</text>\n",
       "<text text-anchor=\"start\" x=\"463\" y=\"-22.8\" font-family=\"Helvetica,sans-Serif\" font-size=\"14.00\">samples = 490</text>\n",
       "<text text-anchor=\"start\" x=\"453.5\" y=\"-7.8\" font-family=\"Helvetica,sans-Serif\" font-size=\"14.00\">value = [182, 308]</text>\n",
       "</g>\n",
       "<!-- 4&#45;&gt;6 -->\n",
       "<g id=\"edge6\" class=\"edge\">\n",
       "<title>4&#45;&gt;6</title>\n",
       "<path fill=\"none\" stroke=\"black\" d=\"M413.06,-88.95C428.19,-79.16 444.69,-68.48 459.64,-58.8\"/>\n",
       "<polygon fill=\"black\" stroke=\"black\" points=\"461.74,-61.61 468.24,-53.24 457.94,-55.73 461.74,-61.61\"/>\n",
       "</g>\n",
       "</g>\n",
       "</svg>\n"
      ],
      "text/plain": [
       "<graphviz.files.Source at 0x7fc3ed2c30d0>"
      ]
     },
     "execution_count": 30,
     "metadata": {},
     "output_type": "execute_result"
    }
   ],
   "source": [
    "dt_clf = DecisionTreeClassifier(max_depth=2,random_state=2001)\n",
    "dt_clf.fit(face_train_data,face_train_label)\n",
    "dot_data = tree.export_graphviz(dt_clf,feature_names=face_train_data.columns.tolist(),filled=True,\n",
    "                                rounded=True,special_characters=True,out_file=None)\n",
    "graph = graphviz.Source(dot_data)\n",
    "graph"
   ]
  },
  {
   "cell_type": "code",
   "execution_count": 31,
   "metadata": {},
   "outputs": [
    {
     "data": {
      "text/html": [
       "<div>\n",
       "<style scoped>\n",
       "    .dataframe tbody tr th:only-of-type {\n",
       "        vertical-align: middle;\n",
       "    }\n",
       "\n",
       "    .dataframe tbody tr th {\n",
       "        vertical-align: top;\n",
       "    }\n",
       "\n",
       "    .dataframe thead th {\n",
       "        text-align: right;\n",
       "    }\n",
       "</style>\n",
       "<table border=\"1\" class=\"dataframe\">\n",
       "  <thead>\n",
       "    <tr style=\"text-align: right;\">\n",
       "      <th></th>\n",
       "      <th>max_depth</th>\n",
       "      <th>training_accuracy(%)</th>\n",
       "      <th>test_accuracy(%)</th>\n",
       "    </tr>\n",
       "  </thead>\n",
       "  <tbody>\n",
       "    <tr>\n",
       "      <th>0</th>\n",
       "      <td>2</td>\n",
       "      <td>79.479167</td>\n",
       "      <td>78.166667</td>\n",
       "    </tr>\n",
       "    <tr>\n",
       "      <th>1</th>\n",
       "      <td>8</td>\n",
       "      <td>93.354167</td>\n",
       "      <td>84.083333</td>\n",
       "    </tr>\n",
       "    <tr>\n",
       "      <th>2</th>\n",
       "      <td>20</td>\n",
       "      <td>100.000000</td>\n",
       "      <td>81.500000</td>\n",
       "    </tr>\n",
       "  </tbody>\n",
       "</table>\n",
       "</div>"
      ],
      "text/plain": [
       "   max_depth  training_accuracy(%)  test_accuracy(%)\n",
       "0          2             79.479167         78.166667\n",
       "1          8             93.354167         84.083333\n",
       "2         20            100.000000         81.500000"
      ]
     },
     "execution_count": 31,
     "metadata": {},
     "output_type": "execute_result"
    }
   ],
   "source": [
    "pd.DataFrame(data={\"max_depth\":max_depth,\"training_accuracy(%)\":training_accuracy,\"test_accuracy(%)\":test_accuracy})"
   ]
  },
  {
   "cell_type": "markdown",
   "metadata": {},
   "source": [
    "# Question 3f"
   ]
  },
  {
   "cell_type": "code",
   "execution_count": 32,
   "metadata": {},
   "outputs": [
    {
     "data": {
      "image/png": "[encoded data removed]",
      "text/plain": [
       "<Figure size 432x288 with 1 Axes>"
      ]
     },
     "metadata": {
      "needs_background": "light"
     },
     "output_type": "display_data"
    }
   ],
   "source": [
    "face_train[face_train[\"smiling\"]==1][\"x50\"].hist(alpha=0.5,bins=50)\n",
    "face_train[face_train[\"smiling\"]==0][\"x50\"].hist(alpha=0.5,bins=50)\n",
    "plt.show()"
   ]
  },
  {
   "cell_type": "code",
   "execution_count": 33,
   "metadata": {},
   "outputs": [
    {
     "data": {
      "text/plain": [
       "(['x50', 'y48', 'y29'], array([0.33040485, 0.08995881, 0.08831447]))"
      ]
     },
     "execution_count": 33,
     "metadata": {},
     "output_type": "execute_result"
    }
   ],
   "source": [
    "top_three_important[\"8\"]"
   ]
  },
  {
   "cell_type": "code",
   "execution_count": 34,
   "metadata": {
    "scrolled": true
   },
   "outputs": [
    {
     "data": {
      "text/plain": [
       "smiling    1.000000\n",
       "x50        0.523004\n",
       "x52        0.511284\n",
       "y33        0.487287\n",
       "x49        0.472051\n",
       "Name: smiling, dtype: float64"
      ]
     },
     "execution_count": 34,
     "metadata": {},
     "output_type": "execute_result"
    }
   ],
   "source": [
    "abs(face_train.corr()[\"smiling\"]).sort_values(ascending=False)[:5]"
   ]
  },
  {
   "cell_type": "markdown",
   "metadata": {},
   "source": [
    "# Question 3g"
   ]
  },
  {
   "cell_type": "code",
   "execution_count": 35,
   "metadata": {},
   "outputs": [
    {
     "data": {
      "image/png": "[encoded data removed]",
      "text/plain": [
       "<Figure size 432x288 with 1 Axes>"
      ]
     },
     "metadata": {
      "needs_background": "light"
     },
     "output_type": "display_data"
    }
   ],
   "source": [
    "coordinates = face_train_data.iloc[1,:].values.reshape(68,2)\n",
    "plt.scatter(coordinates[:,0],coordinates[:,1])\n",
    "plt.scatter(coordinates[50,0],coordinates[50,1],c=\"r\")\n",
    "plt.title(\"Smiling and No Smiling Faces\")\n",
    "plt.xlabel(\"value of x coordinate\")\n",
    "plt.ylabel(\"value of y coordinate\")\n",
    "plt.xlim(-2.5,2.5)\n",
    "plt.ylim(-2.5,2.5)\n",
    "plt.axes().set_aspect('equal')\n",
    "plt.show()"
   ]
  },
  {
   "cell_type": "markdown",
   "metadata": {},
   "source": [
    "# Question 4a"
   ]
  },
  {
   "cell_type": "code",
   "execution_count": 36,
   "metadata": {},
   "outputs": [],
   "source": [
    "dataset3 = pd.read_csv(\"data/classification_eval_1.csv\")"
   ]
  },
  {
   "cell_type": "code",
   "execution_count": 37,
   "metadata": {},
   "outputs": [],
   "source": [
    "dataset3[dataset3[[\"alg_1\",\"alg_2\",\"alg_3\",\"alg_4\"]]>=0.5] = 1\n",
    "dataset3[dataset3[[\"alg_1\",\"alg_2\",\"alg_3\",\"alg_4\"]]<0.5] = 0"
   ]
  },
  {
   "cell_type": "code",
   "execution_count": 38,
   "metadata": {},
   "outputs": [
    {
     "data": {
      "text/plain": [
       "202"
      ]
     },
     "execution_count": 38,
     "metadata": {},
     "output_type": "execute_result"
    }
   ],
   "source": [
    "dataset3[\"gt\"].sum()"
   ]
  },
  {
   "cell_type": "code",
   "execution_count": 39,
   "metadata": {},
   "outputs": [],
   "source": [
    "accuracy_scores = []\n",
    "for i in range(1,5):\n",
    "    accuracy_scores.append(accuracy_score(dataset3[\"gt\"],dataset3[\"alg_\"+str(i)])*100)"
   ]
  },
  {
   "cell_type": "code",
   "execution_count": 40,
   "metadata": {},
   "outputs": [
    {
     "name": "stdout",
     "output_type": "stream",
     "text": [
      "[61.6, 55.00000000000001, 32.1, 32.9]\n"
     ]
    }
   ],
   "source": [
    "print(accuracy_scores)"
   ]
  },
  {
   "cell_type": "markdown",
   "metadata": {},
   "source": [
    "# Question 4b"
   ]
  },
  {
   "cell_type": "code",
   "execution_count": 41,
   "metadata": {},
   "outputs": [],
   "source": [
    "dataset3 = pd.read_csv(\"data/classification_eval_1.csv\")\n",
    "roc_auc_scores = []\n",
    "for i in range(1,5):\n",
    "    roc_auc_scores.append(roc_auc_score(dataset3[\"gt\"],dataset3[\"alg_\"+str(i)]))"
   ]
  },
  {
   "cell_type": "code",
   "execution_count": 42,
   "metadata": {},
   "outputs": [
    {
     "data": {
      "text/plain": [
       "[0.7320932281198045,\n",
       " 0.6316285763914737,\n",
       " 0.06395009801732053,\n",
       " 0.8473876522990644]"
      ]
     },
     "execution_count": 42,
     "metadata": {},
     "output_type": "execute_result"
    }
   ],
   "source": [
    "roc_auc_scores"
   ]
  },
  {
   "cell_type": "markdown",
   "metadata": {},
   "source": [
    "# Question 4c"
   ]
  },
  {
   "cell_type": "code",
   "execution_count": 43,
   "metadata": {},
   "outputs": [
    {
     "data": {
      "image/png": "[encoded data removed]",
      "text/plain": [
       "<Figure size 432x288 with 1 Axes>"
      ]
     },
     "metadata": {
      "needs_background": "light"
     },
     "output_type": "display_data"
    }
   ],
   "source": [
    "dataset3 = pd.read_csv(\"data/classification_eval_1.csv\")\n",
    "plt.plot([0,1],[0,1],\"r--\",label=\"Random guess\")\n",
    "for col_name in [\"alg_1\",\"alg_2\",\"alg_3\",\"alg_4\"]:\n",
    "    fpr, tpr, _ = roc_curve(dataset3[\"gt\"], dataset3[col_name])\n",
    "    plt.plot(fpr, tpr, label=col_name)\n",
    "plt.xlabel('False Positive Rate')\n",
    "plt.ylabel('True Positive Rate')\n",
    "plt.title(\"ROC Curves For Four Models\")\n",
    "plt.legend(loc=\"upper left\",fontsize=8)\n",
    "plt.axes().set_aspect('equal')\n",
    "plt.savefig('plot/ROC.png', dpi=300, bbox_inches='tight')\n",
    "plt.show()"
   ]
  }
 ],
 "metadata": {
  "kernelspec": {
   "display_name": "Python 3",
   "language": "python",
   "name": "python3"
  },
  "language_info": {
   "codemirror_mode": {
    "name": "ipython",
    "version": 3
   },
   "file_extension": ".py",
   "mimetype": "text/x-python",
   "name": "python",
   "nbconvert_exporter": "python",
   "pygments_lexer": "ipython3",
   "version": "3.7.9"
  }
 },
 "nbformat": 4,
 "nbformat_minor": 4
}
